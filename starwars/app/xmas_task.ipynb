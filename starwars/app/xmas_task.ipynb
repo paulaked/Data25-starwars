{
 "cells": [
  {
   "cell_type": "code",
   "execution_count": 1,
   "metadata": {},
   "outputs": [],
   "source": [
    "# Code to import \n",
    "import pymongo\n",
    "import requests\n",
    "from pprint import pprint"
   ]
  },
  {
   "cell_type": "markdown",
   "metadata": {},
   "source": [
    "# Functions"
   ]
  },
  {
   "cell_type": "code",
   "execution_count": 2,
   "metadata": {},
   "outputs": [],
   "source": [
    "# A function to do an api request, then convert the data to json format\n",
    "def api_request(url):\n",
    "    raw_data = requests.get(url)\n",
    "    json_data = raw_data.json()\n",
    "    return json_data\n",
    "\n",
    "# A function to turn the pages \n",
    "def turn_page(json_data):\n",
    "    if json_data[\"next\"] != \"null\":\n",
    "        next_page_url = json_data[\"next\"]\n",
    "        return next_page_url\n",
    "    else:\n",
    "        return False\n",
    "\n",
    "# A function to call the url from all of the pages\n",
    "def url_in_api(page_url_info):\n",
    "    url_list_ships = []  # A list of all starship url\n",
    "    for url in page_url_info:\n",
    "        data = api_request(url)\n",
    "        for i in data[\"results\"]:\n",
    "            url_list_ships.append(i[\"url\"])\n",
    "    return url_list_ships\n",
    "\n",
    "# A function to create a list and append the pilot url\n",
    "def pilot_url_list(url_list_ship_info):\n",
    "    ship_pilot_url = []\n",
    "    for i in url_list_ship_info:\n",
    "        ship_info = api_request(i)\n",
    "        pilot_url = ship_info[\"result\"][\"properties\"][\"pilots\"]\n",
    "        ship_pilot_url.append(pilot_url)\n",
    "    return ship_pilot_url\n",
    "\n",
    "# A function to flatten the lists of lists.\n",
    "def flatten(ship_pilot_url):\n",
    "    pilot_urls_flat = []\n",
    "    for sublist in ship_pilot_url:\n",
    "        for item in sublist:\n",
    "            pilot_urls_flat.append(item)\n",
    "    return pilot_urls_flat\n",
    "\n",
    "# A function to create a list with just the names \n",
    "def name(pilot_urls_flat):\n",
    "    pilot_name_list = []\n",
    "    for i in pilot_urls_flat:\n",
    "        people_info = api_request(i)\n",
    "        pilot_id = people_info[\"result\"][\"properties\"][\"name\"]\n",
    "        pilot_name_list.append(pilot_id)\n",
    "    return pilot_name_list\n",
    "\n",
    "# A function to return a list of just the object id by comparing the names\n",
    "def mongo_name(pilot_name_list):\n",
    "    mongo_name_id_list = []\n",
    "    for name in pilot_name_list:\n",
    "        mongo_name_id = db.characters.find_one({\"name\": name}, {\"_id\": 1})\n",
    "        mongo_name_id_list.append(mongo_name_id)\n",
    "    return mongo_name_id_list\n",
    "\n",
    "# A function to make a dictionary\n",
    "def make_dict(key, value):\n",
    "    new_dict = {k: v for k, v in zip(key, value)}\n",
    "    return new_dict"
   ]
  },
  {
   "cell_type": "markdown",
   "metadata": {},
   "source": [
    "# Code - main in pycharm"
   ]
  },
  {
   "cell_type": "code",
   "execution_count": 3,
   "metadata": {
    "scrolled": true
   },
   "outputs": [
    {
     "data": {
      "text/plain": [
       "Collection(Database(MongoClient(host=['localhost:27017'], document_class=dict, tz_aware=False, connect=True), 'starwars'), 'starships')"
      ]
     },
     "execution_count": 3,
     "metadata": {},
     "output_type": "execute_result"
    }
   ],
   "source": [
    "# Code to use mongo, access the satabase starwars and drop/make a collection called starships\n",
    "client = pymongo.MongoClient()\n",
    "db = client[\"starwars\"]\n",
    "db.drop_collection(\"starships\")  # Drops collection if exists\n",
    "db.create_collection(\"starships\")"
   ]
  },
  {
   "cell_type": "code",
   "execution_count": 4,
   "metadata": {},
   "outputs": [],
   "source": [
    "# Name the api, add first page of x to a list.\n",
    "api_address_ship = \"https://www.swapi.tech/api/starships\"\n",
    "web_address = api_address_ship\n",
    "page_url = [api_address_ship]"
   ]
  },
  {
   "cell_type": "code",
   "execution_count": 5,
   "metadata": {},
   "outputs": [],
   "source": [
    "# Calls two functions, api request and turn_page. Pages added to page_url list, breaks if next page = None\n",
    "while True:\n",
    "    page_contents = api_request(web_address)\n",
    "    next_page_url = turn_page(page_contents)\n",
    "    if next_page_url == None:\n",
    "        break\n",
    "    else:\n",
    "        page_url.append(next_page_url)\n",
    "        web_address = next_page_url"
   ]
  },
  {
   "cell_type": "code",
   "execution_count": 6,
   "metadata": {},
   "outputs": [],
   "source": [
    "# A list of the ship url using the pages - calls function url_in_api\n",
    "url_list_ship = url_in_api(page_url)"
   ]
  },
  {
   "cell_type": "code",
   "execution_count": 7,
   "metadata": {},
   "outputs": [],
   "source": [
    "# A list of the pilot urls from each ship, only returns ships with pilots, removes empty lists\n",
    "ship_pilot_url = pilot_url_list(url_list_ship)\n",
    "ship_pilot_url = [x for x in ship_pilot_url if x]"
   ]
  },
  {
   "cell_type": "code",
   "execution_count": 8,
   "metadata": {},
   "outputs": [],
   "source": [
    "# flattens the data, removes a list of lists\n",
    "pilot_urls_flat = flatten(ship_pilot_url)"
   ]
  },
  {
   "cell_type": "code",
   "execution_count": 9,
   "metadata": {},
   "outputs": [],
   "source": [
    "# a list of just the pilot names from the flat list\n",
    "pilot_name_list = name(pilot_urls_flat)"
   ]
  },
  {
   "cell_type": "code",
   "execution_count": 10,
   "metadata": {},
   "outputs": [],
   "source": [
    "# A list of ids corresponding to the name, by matching the \"pilot name\" with the name in the starwars database\n",
    "mongo_name_id_list = mongo_name(pilot_name_list)"
   ]
  },
  {
   "cell_type": "code",
   "execution_count": 11,
   "metadata": {},
   "outputs": [],
   "source": [
    "# A dictionary with all the pilots url and pilot names\n",
    "key_list = pilot_urls_flat\n",
    "value_list = mongo_name_id_list\n",
    "pilot_url_mongo_name_id = make_dict(key_list, value_list)"
   ]
  },
  {
   "cell_type": "code",
   "execution_count": 12,
   "metadata": {},
   "outputs": [],
   "source": [
    "# Code to insert the objectid to the starships collection with 0, 1 or multiple pilotIDs\n",
    "for url in url_list_ship:\n",
    "    ship_data = api_request(url)\n",
    "    people_url_id_list = []\n",
    "    for p_url in ship_data[\"result\"][\"properties\"][\"pilots\"]:\n",
    "        if p_url == []:\n",
    "            pass\n",
    "        else:\n",
    "            people_url_id_list.append(pilot_url_mongo_name_id[p_url])\n",
    "            ship_data[\"result\"][\"properties\"][\"pilots\"] = people_url_id_list\n",
    "    db.starships.insert_one(ship_data)\n"
   ]
  },
  {
   "cell_type": "markdown",
   "metadata": {},
   "source": [
    "# Testing\n"
   ]
  },
  {
   "cell_type": "code",
   "execution_count": 13,
   "metadata": {},
   "outputs": [],
   "source": [
    "import requests\n",
    "\n",
    "# This code test that the output is a dictionary\n",
    "def func_one_test(url):\n",
    "    assert type(api_request(url)) is int\n",
    "\n",
    "# This code tests the status code is 200\n",
    "def func_two_test(url):\n",
    "    check = api_request(url)\n",
    "    assert check.status_code == 200\n",
    "\n",
    "# This tests the length of the list is equal to the total number of pages\n",
    "def func_three_test(list, data):\n",
    "    assert len(list) == data[\"total_pages\"]"
   ]
  },
  {
   "cell_type": "code",
   "execution_count": null,
   "metadata": {},
   "outputs": [],
   "source": []
  },
  {
   "cell_type": "code",
   "execution_count": null,
   "metadata": {},
   "outputs": [],
   "source": []
  },
  {
   "cell_type": "code",
   "execution_count": null,
   "metadata": {},
   "outputs": [],
   "source": []
  },
  {
   "cell_type": "markdown",
   "metadata": {},
   "source": [
    "# Additional Comments"
   ]
  },
  {
   "cell_type": "markdown",
   "metadata": {},
   "source": [
    "This is the main submit of the code, api issues persisted with a 5minute interval between runs. "
   ]
  }
 ],
 "metadata": {
  "kernelspec": {
   "display_name": "Python 3",
   "language": "python",
   "name": "python3"
  },
  "language_info": {
   "codemirror_mode": {
    "name": "ipython",
    "version": 3
   },
   "file_extension": ".py",
   "mimetype": "text/x-python",
   "name": "python",
   "nbconvert_exporter": "python",
   "pygments_lexer": "ipython3",
   "version": "3.7.6"
  }
 },
 "nbformat": 4,
 "nbformat_minor": 4
}
